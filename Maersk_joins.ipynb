{
 "cells": [
  {
   "cell_type": "code",
   "execution_count": 1,
   "id": "c1d18532-a07e-4286-9cba-1da8a33137be",
   "metadata": {},
   "outputs": [],
   "source": [
    "import pandas as pd\n",
    "import numpy as np"
   ]
  },
  {
   "cell_type": "code",
   "execution_count": 2,
   "id": "4f284311-7862-4fff-92a1-f7696627bd47",
   "metadata": {},
   "outputs": [],
   "source": [
    "Geocodes = pd.read_excel(\"/Users/mehta/Downloads/Geocodes list - CMU (1).xlsx\")\n",
    "FRO_Worklist =pd.read_excel(\"/Users/mehta/Downloads/FRO worklist dump - CMU (1).xlsx\") \n",
    "FRO_List = pd.read_excel(\"/Users/mehta/Downloads/FRO list - CMU (1).xlsx\")\n",
    "Location_List = pd.read_excel(\"/Users/mehta/Downloads/Location list - CMU (1).xlsx\")"
   ]
  },
  {
   "cell_type": "code",
   "execution_count": 3,
   "id": "c15ecaa7-054d-405e-b105-b971ff2ee794",
   "metadata": {},
   "outputs": [],
   "source": [
    "merged_df = pd.merge(FRO_Worklist, FRO_List[['DB_KEY','TOR_ID']], left_on='Freight Order', right_on='TOR_ID', how='left')"
   ]
  },
  {
   "cell_type": "code",
   "execution_count": 5,
   "id": "2c130e89-6a20-40d7-b61f-b42e40ebbb96",
   "metadata": {},
   "outputs": [],
   "source": [
    "merged_df2 = pd.merge(merged_df, Location_List[['LOG_LOCID','PARENT_KEY']], left_on='DB_KEY', right_on='PARENT_KEY', how='left')"
   ]
  },
  {
   "cell_type": "code",
   "execution_count": 7,
   "id": "a6780796-ad6d-4adb-97b7-6ccbd43f45d4",
   "metadata": {},
   "outputs": [],
   "source": [
    "merged_df3 = pd.merge(merged_df2, Geocodes[['LOCNO', 'XPOS', 'YPOS']], left_on='LOG_LOCID', right_on='LOCNO', how='left')"
   ]
  },
  {
   "cell_type": "code",
   "execution_count": 33,
   "id": "2b31249c-dda7-4b79-b5b7-7dc6569c8398",
   "metadata": {},
   "outputs": [],
   "source": [
    "merged_df3.to_excel('Maersk_merged_file.xlsx', index=False)"
   ]
  }
 ],
 "metadata": {
  "kernelspec": {
   "display_name": "Python 3 (ipykernel)",
   "language": "python",
   "name": "python3"
  },
  "language_info": {
   "codemirror_mode": {
    "name": "ipython",
    "version": 3
   },
   "file_extension": ".py",
   "mimetype": "text/x-python",
   "name": "python",
   "nbconvert_exporter": "python",
   "pygments_lexer": "ipython3",
   "version": "3.11.5"
  }
 },
 "nbformat": 4,
 "nbformat_minor": 5
}
